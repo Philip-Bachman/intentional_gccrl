{
 "cells": [
  {
   "cell_type": "code",
   "execution_count": 1,
   "id": "ca5c7b9d",
   "metadata": {},
   "outputs": [
    {
     "name": "stdout",
     "output_type": "stream",
     "text": [
      "Video saved as output_video.avi\n"
     ]
    }
   ],
   "source": [
    "import cv2\n",
    "import numpy as np\n",
    "\n",
    "# Sample NumPy array (e.g., [num_frames, height, width, channels])\n",
    "# Replace with your actual image sequence\n",
    "frames = np.random.randint(0, 256, (100, 480, 640, 3), dtype=np.uint8)\n",
    "\n",
    "# Video parameters\n",
    "fps = 30  # Frames per second\n",
    "height, width, _ = frames[0].shape\n",
    "output_path = 'output_video.avi'\n",
    "fourcc = cv2.VideoWriter_fourcc(*'XVID')  # Codec (e.g., 'XVID', 'mp4v', etc.)\n",
    "\n",
    "# Create VideoWriter object\n",
    "video_writer = cv2.VideoWriter(output_path, fourcc, fps, (width, height))\n",
    "\n",
    "# Write frames to video\n",
    "for frame in frames:\n",
    "    video_writer.write(frame)\n",
    "\n",
    "# Release the writer\n",
    "video_writer.release()\n",
    "\n",
    "print(f\"Video saved as {output_path}\")"
   ]
  },
  {
   "cell_type": "code",
   "execution_count": null,
   "id": "ff025be2",
   "metadata": {},
   "outputs": [],
   "source": []
  }
 ],
 "metadata": {
  "kernelspec": {
   "display_name": "Python 3 (ipykernel)",
   "language": "python",
   "name": "python3"
  },
  "language_info": {
   "codemirror_mode": {
    "name": "ipython",
    "version": 3
   },
   "file_extension": ".py",
   "mimetype": "text/x-python",
   "name": "python",
   "nbconvert_exporter": "python",
   "pygments_lexer": "ipython3",
   "version": "3.10.12"
  }
 },
 "nbformat": 4,
 "nbformat_minor": 5
}
